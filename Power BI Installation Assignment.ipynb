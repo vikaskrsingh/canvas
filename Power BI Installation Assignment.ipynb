{
 "cells": [
  {
   "cell_type": "markdown",
   "metadata": {},
   "source": [
    "### Assignment – 1"
   ]
  },
  {
   "cell_type": "markdown",
   "metadata": {},
   "source": [
    "<b> Question 1: Install Power BI Desktop and share the final screenshot of the report view page which appears when power desktop starts.</b>"
   ]
  },
  {
   "cell_type": "markdown",
   "metadata": {},
   "source": [
    "![alt text](https://github.com/vikaskrsingh/canvas/blob/master/Power%20BI%20Desktop.png?raw=true)"
   ]
  },
  {
   "cell_type": "markdown",
   "metadata": {},
   "source": [
    "<b> Question 2: Prepare a document and with the following screenshot \n",
    "\n",
    "− Report View\n",
    "\n",
    "− Data View\n",
    "\n",
    "− Model View\n",
    "\n",
    "− Power Query Editor − Advance Editor</b>"
   ]
  },
  {
   "cell_type": "markdown",
   "metadata": {},
   "source": [
    "-- Report View\n",
    "\n",
    "![alt text](https://github.com/vikaskrsingh/canvas/blob/master/reportview.png?raw=true)\n",
    "\n",
    "−- Data View\n",
    "\n",
    "![alt text](https://github.com/vikaskrsingh/canvas/blob/master/dataview.png?raw=true)\n",
    "\n",
    "--Model view\n",
    "![alt text](https://github.com/vikaskrsingh/canvas/blob/master/dataview.png?raw=true)\n",
    "\n",
    "--Power Query Editor − Advance Editor\n",
    "\n",
    "![alt text](https://github.com/vikaskrsingh/canvas/blob/master/Queryeditor.png?raw=true)"
   ]
  },
  {
   "cell_type": "markdown",
   "metadata": {},
   "source": [
    "<b>Question: Prepare a document with details of the following along with their price\n",
    "\n",
    "− Power BI Desktop\n",
    "\n",
    "− Power BI Pro\n",
    "\n",
    "− Power BI Premium\n",
    "\n",
    "</b>"
   ]
  },
  {
   "cell_type": "markdown",
   "metadata": {},
   "source": [
    "Answer: \n",
    "\n",
    "Power BI has three pricing plans:\n",
    "\n",
    "<b>Power BI Desktop:</b> This offering is free to any single user and includes data cleaning and preparation, custom visualizations and the ability to publish to the Power BI service.\n",
    "\n",
    "\n",
    "<b>Power BI Pro:</b> The Pro plan costs $9.99/user/month. It includes data collaboration, data governance, building dashboards with a 360-degree real-time view and the ability to publish reports anywhere. Users can try it a free trial for 60 days before purchasing the subscription.\n",
    "\n",
    "\n",
    "<b>Power BI Premium:</b> The Premium plan starts at $4,995 a month per dedicated cloud compute and storage resource."
   ]
  }
 ],
 "metadata": {
  "kernelspec": {
   "display_name": "Python 3",
   "language": "python",
   "name": "python3"
  },
  "language_info": {
   "codemirror_mode": {
    "name": "ipython",
    "version": 3
   },
   "file_extension": ".py",
   "mimetype": "text/x-python",
   "name": "python",
   "nbconvert_exporter": "python",
   "pygments_lexer": "ipython3",
   "version": "3.7.3"
  }
 },
 "nbformat": 4,
 "nbformat_minor": 2
}
