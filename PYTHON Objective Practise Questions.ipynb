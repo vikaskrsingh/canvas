{
 "cells": [
  {
   "cell_type": "markdown",
   "metadata": {},
   "source": [
    "### PYTHON Objective Practise Questions"
   ]
  },
  {
   "cell_type": "markdown",
   "metadata": {},
   "source": [
    "Q1. How can we create an iterator object from a list?\n",
    "\n",
    "a) Bypassing the given list to the iter() function\n",
    "b) By using a for a loop.\n",
    "c) By using a while loop.\n",
    "d) You cannot create an iterable object\n",
    "\n",
    "Ans: a, b"
   ]
  },
  {
   "cell_type": "markdown",
   "metadata": {},
   "source": [
    "Q2. If the function contains at least of one “yield” statement, then it becomes ______\n",
    "a) An iterable\n",
    "b) a generator function\n",
    "c) an anonymous function d) None of the above\n",
    "\n",
    "Ans: b"
   ]
  },
  {
   "cell_type": "markdown",
   "metadata": {},
   "source": [
    "Q3. What is the output of the code?\n",
    "\n",
    "mylist = [1, 3, 6, 10]\n",
    " a = (x**2 for x in mylist)\n",
    "print(next(a), next(a))\n",
    "\n",
    "a)13\n",
    "b)19 \n",
    "c)1936100 \n",
    "d)1\n",
    "\n",
    "Ans: b"
   ]
  },
  {
   "cell_type": "markdown",
   "metadata": {},
   "source": [
    "Q4. What are the criteria that must be met to create closure in Python? \n",
    "\n",
    "a) The program Must have the function inside the function.\n",
    "b) The nested function must refer to the value defined in the enclosing function. \n",
    "c) The enclosing function must return the nested\n",
    "d) All of the above.\n",
    "\n",
    "Ans: d"
   ]
  },
  {
   "cell_type": "markdown",
   "metadata": {},
   "source": [
    "Q5. What is the output of the code?\n",
    "def Foo(n):\n",
    " def multiplier(x):\n",
    " returnx*n\n",
    " return multiplier\n",
    "a = Foo(5)\n",
    "b = Foo(5)\n",
    "print(a(b(2)))\n",
    "a) 25.\n",
    "b) 100 \n",
    "c) 10\n",
    "d) 50\n",
    "\n",
    "Ans: d"
   ]
  },
  {
   "cell_type": "markdown",
   "metadata": {},
   "source": [
    "Q6. What is the output of the code?\n",
    "\n",
    "def make_pretty(func):\n",
    " def inner():\n",
    " print(\"I got decorated\")\n",
    " func()\n",
    " return inner\n",
    " def ordinary():\n",
    " print(\"I am ordinary\")\n",
    "pretty = make_pretty(ordinary)\n",
    "pretty()\n",
    "\n",
    "a) I got decorated\n",
    "b) I am pretty\n",
    "c) I got decorated\n",
    "   I am ordinary\n",
    "d) I am ordinary \n",
    "   I got decorated\n",
    "   \n",
    "Ans: c\n"
   ]
  },
  {
   "cell_type": "markdown",
   "metadata": {},
   "source": [
    "Q7: What is the more pythonic way to use getters and setters?\n",
    "a) Decorators b) Generators. c) Iterators\n",
    "d) @property\n",
    "\n",
    "Ans: d"
   ]
  },
  {
   "cell_type": "markdown",
   "metadata": {},
   "source": [
    "Q8:  In Python, there is a built-in function property() that returns a\n",
    " property object. The property object has which of the methods?\n",
    " \n",
    "a) getter()andsetter()\n",
    "b) getter(),setter()anddelete() \n",
    "c) getter()anddelete()\n",
    "d) setter()anddelete()\n",
    "\n",
    "Ans: a"
   ]
  },
  {
   "cell_type": "markdown",
   "metadata": {},
   "source": [
    "Q9. Which of the following statement is true?\n",
    " a) You cannot chain multiple decorators in Python.\n",
    " b) Decorators don’t work with functions that take parameters.\n",
    " c) The @ symbol doesn’t have any use while using decorators.\n",
    " d) None of the above\n",
    "\n",
    "Ans: b"
   ]
  },
  {
   "cell_type": "markdown",
   "metadata": {},
   "source": [
    "Q10. For the following codes, which of the following statements is true?\n",
    "\n",
    "def printHello():\n",
    "print(\"Hello\")\n",
    "a = printHello()\n",
    "\n",
    "a) Print Hello() is a function, and a is a variable. None of them are objects. \n",
    "b) Both printHello()and the reference to the same object.\n",
    "c) Print Hello() and the reference to different objects.\n",
    "d) Syntax error! You cannot assign function\n",
    "\n",
    "\n",
    "Ans: b"
   ]
  },
  {
   "cell_type": "markdown",
   "metadata": {},
   "source": [
    "Q11. What is the output of the program?\n",
    "def outerFunction():\n",
    "a=10\n",
    " global a\n",
    " a=20\n",
    " def innerFunction():\n",
    " global a\n",
    " a=30\n",
    " print('a =', a)\n",
    " outerFunction()\n",
    "print('a =', a)\n",
    "\n",
    "a) a=10a=30 \n",
    "b) a=10\n",
    "c) a=20\n",
    "d) a=30\n",
    "\n",
    "Ans: c a=20"
   ]
  },
  {
   "cell_type": "markdown",
   "metadata": {},
   "source": [
    "Q12. Which of the following statements is true?\n",
    "a) A class is a blueprint for the object.\n",
    "b) You can only make the single object from the given class\n",
    "c) Both statements are true. \n",
    "d) Neither statement is true.\n",
    "\n",
    "Ans: C"
   ]
  },
  {
   "cell_type": "markdown",
   "metadata": {},
   "source": [
    "Q13. What is the output of the code?\n",
    "\n",
    "class Foo:\n",
    "    def printLine(self, line='Python'):\n",
    "        print(line)\n",
    "o1 = Foo()\n",
    "o1.printLine('Java')\n",
    "\n",
    "a) Python\n",
    "b) Line\n",
    "c) Java\n",
    "d) Java Python\n",
    "\n",
    "Ans: c"
   ]
  },
  {
   "cell_type": "markdown",
   "metadata": {},
   "source": [
    "Q14. What is the function of the\n",
    "__init__()\n",
    "function in Python?\n",
    "\n",
    "a) Initialises the class for use.\n",
    "b) This function is called, when the new object is instantiated\n",
    "c) Initialises all the data attributes to zero when called\n",
    "d) None of the above.\n",
    "\n",
    "Ans: c"
   ]
  },
  {
   "cell_type": "markdown",
   "metadata": {},
   "source": [
    "Q15. What is the output of the code?\n",
    "class Point:\n",
    " def __init__(self, x = 0, y = 0):\n",
    " self.x = x+1 self.y = y+1\n",
    " p1 = Point()\n",
    "print(p1.x, p1.y)\n",
    "\n",
    "a) 0 0 \n",
    "b) 1 1\n",
    "c) None None \n",
    "d) x y\n",
    "\n",
    "Ans: b"
   ]
  },
  {
   "cell_type": "markdown",
   "metadata": {},
   "source": [
    "Q16. Which of the following code used the inheritance feature?\n",
    "\n",
    "a) Class Foo:\n",
    "    pass\n",
    "b) Class Foo(object):\n",
    "    pass\n",
    "   class Hoo(object):\n",
    "        pass\n",
    "c) Class Foo:\n",
    "    pass\n",
    "   class Hoo(Foo):\n",
    "        pass\n",
    "d) None\n",
    "\n",
    "Ans: c\n",
    "        "
   ]
  },
  {
   "cell_type": "markdown",
   "metadata": {},
   "source": [
    "Q17. If you a class is derived from two different classes, it’s called\n",
    "\n",
    "a) Multilevelinheritance\n",
    "b) MultipleInheritance\n",
    "c) HierarchicalInheritance \n",
    "d) Python Inheritance\n",
    "\n",
    "Ans: b"
   ]
  },
  {
   "cell_type": "markdown",
   "metadata": {},
   "source": [
    "Q18. Which of the following statements is true?\n",
    "a) InPython,thesameoperatormaybehavedifferentlydependsupontheoperands.\n",
    "b) You can change the way operators which behave in Python.\n",
    "c) Special method __add()__ is called when + operator\n",
    "d) Alloftheabove.\n",
    "\n",
    "Ans: d"
   ]
  },
  {
   "cell_type": "markdown",
   "metadata": {},
   "source": [
    "Q19. What is the output of the code?\n",
    "\n",
    "class Point:\n",
    " def __init__(self, x = 0, y = 0):\n",
    " self.x = x self.y = y\n",
    " def __sub__(self, other):\n",
    " x = self.x + other.x y = self.y + other.y\n",
    " return Point(x,y)\n",
    "p1 = Point(3, 4)\n",
    "p2 = Point(1, 2)\n",
    "result = p1-p2\n",
    "print(result.x, result.y)\n",
    "\n",
    "a) 22 b) 46 c) 00 d) 11\n",
    "\n",
    "Ans: b"
   ]
  },
  {
   "cell_type": "markdown",
   "metadata": {},
   "source": [
    "Q20. Opening a file in ‘a’ mode\n",
    "a) opensafileforreading\n",
    "b) opensafileforwriting\n",
    "c) opensthefileforappending,attheendoffile d) opensafileforexclusivecreation\n",
    "\n",
    "Ans: c"
   ]
  },
  {
   "cell_type": "markdown",
   "metadata": {},
   "source": [
    "Q21. What does the following code do? \n",
    "\n",
    "f = open(\"test.txt\")\n",
    "a) Opens test.txt file for both reading and writing\n",
    "b) Openstest.txtfileforreadingonly\n",
    "c) Opens test.txt file for writing only\n",
    "d) Openstest.txtfileingodmode\n",
    "\n",
    "Ans: b"
   ]
  },
  {
   "cell_type": "markdown",
   "metadata": {},
   "source": [
    "Q22. Which of the codes closes files automatically if an exception occurs?\n",
    "\n",
    "Choose one \n",
    "\n",
    "a)\n",
    "with open(\"test.txt\", encoding = 'utf-8') as f:\n",
    "  #### perform file operation\n",
    "b)\n",
    "try:\n",
    "    f = open(\"test.txt\",encoding = 'utf-8')\n",
    " #### perform file operations\n",
    "finally:\n",
    "f.close()\n",
    "\n",
    "c) None of the above \n",
    "\n",
    "d) Both of the above\n",
    "\n",
    "Ans: b"
   ]
  },
  {
   "cell_type": "markdown",
   "metadata": {},
   "source": [
    "Q23. For the following code,\n",
    "f = open('test.txt', 'r', encoding = 'utf-8')\n",
    "f.read()\n",
    "\n",
    "a) This program reads the content of the test.txt file.\n",
    "b) If test.txt contains a newline, read() will return the newline as ‘\\n’.\n",
    "c) You can pass an integer to the read() method\n",
    "d) Alloftheabove.\n",
    "\n",
    "Ans: a"
   ]
  },
  {
   "cell_type": "markdown",
   "metadata": {},
   "source": [
    "Q24. What does the following code do? os.listdir()\n",
    "a) Printsthecurrentworkingdirectory.\n",
    "b) Printsthecurrentworkingdirectory.\n",
    "c) Printsallthedirectoriesandfilesinsidethegivendirectory\n",
    "d) Make a new directory\n",
    "\n",
    "Ans: c"
   ]
  },
  {
   "cell_type": "markdown",
   "metadata": {},
   "source": [
    "Q25. Which of the following is correct?\n",
    "a) An exception is an error that occurs in the runtime.\n",
    "b) A syntax error isalso ane xception.\n",
    "c) An exception is used to exclude a block of code in python.\n",
    "d) Alloftheabove.\n",
    "\n",
    "Ans: d"
   ]
  },
  {
   "cell_type": "markdown",
   "metadata": {},
   "source": [
    "Q26. What will happen if we try to open the file that doesn’t exist?\n",
    "a) Anewfileiscreated.\n",
    "b) Nothing will happen.\n",
    "c) An exception is raised.\n",
    "d) Noneoftheabove\n",
    "\n",
    "Ans: c"
   ]
  },
  {
   "cell_type": "markdown",
   "metadata": {},
   "source": [
    "Q27. What is the output of the code?\n",
    "number = 5.0\n",
    "try:\n",
    "    r = 10/number\n",
    "    print(r)\n",
    "except:\n",
    "    print(\"Oops! Error occurred.\")\n",
    "    \n",
    "a) Oops!Erroroccurred\n",
    "b) 2.0\n",
    "c) 2.0Oops!Erroroccurred. d) Noneobject\n",
    "\n",
    "Ans: b"
   ]
  },
  {
   "cell_type": "markdown",
   "metadata": {},
   "source": [
    "Q28. What does the following code do?\n",
    "try:\n",
    "    pass\n",
    "except (TypeError, ZeroDivisionError):\n",
    "    print(\"Two\")\n",
    "\n",
    "a) Prints Two if an exception occurs (doesn’t matter which exception).\n",
    "b) Prints Two if exception doesn’t occur.\n",
    "c) Prints Two if the TypeError or ZeroDivisionError exception occurs.\n",
    "d) Prints Two only if both TypeError and ZeroDivisionError exception occur.\n",
    "\n",
    "Ans: c"
   ]
  },
  {
   "cell_type": "markdown",
   "metadata": {},
   "source": [
    "Q29. Which of the following statement is true?\n",
    " a)You cannot create custom exceptions in Python.\n",
    " b)You can create the user-defined exception by deriving a class from Exception class.\n",
    " c)You can create a user-defined exception by deriving a class from Error class.\n",
    " d)None of the above\n",
    "\n",
    "Ans: b"
   ]
  },
  {
   "cell_type": "markdown",
   "metadata": {},
   "source": [
    "Q30. Which of the following statement is true?\n",
    "a) FunctionsareusedtocreateobjectsinPython.\n",
    "b)\n",
    "c)\n",
    "d) Alloftheabove\n",
    "\n",
    "Ans: d)"
   ]
  },
  {
   "cell_type": "markdown",
   "metadata": {},
   "source": [
    "Q31. What is the output of the code?\n",
    "\n",
    "def printLine(text):\n",
    "    print(text, 'is awesome.')\n",
    "printLine('Python')\n",
    "\n",
    "Ans: b) Python is awesome. "
   ]
  },
  {
   "cell_type": "markdown",
   "metadata": {},
   "source": [
    "Q32.if the return statement is not used inside the function, the function will return\n",
    "\n",
    "Ans: b None Object"
   ]
  },
  {
   "cell_type": "markdown",
   "metadata": {},
   "source": [
    "Q33. What is the output of the code?\n",
    "def greetPerson(*name):\n",
    "    print('Hello', name)\n",
    "greetPerson('Frodo', 'Sauron')\n",
    "\n",
    "a) Hello Frodo Hello Sauron\n",
    "b) Hello ('Frodo', 'Sauron')\n",
    "c) Hello Frodo\n",
    "d) Syntax Error! Great person() can take only one argument.\n",
    "\n",
    "Ans: b"
   ]
  },
  {
   "cell_type": "markdown",
   "metadata": {},
   "source": [
    "Q34. What is a recursive function?\n",
    "\n",
    "Choose one\n",
    "a) A function that calls all the functions in the program.\n",
    "b) A function that calls itself.\n",
    "c) A function that that calls all the functions in the program except itself.\n",
    "d) There is no such thing as a recursive function in Python.\n",
    "\n",
    "Ans: b"
   ]
  },
  {
   "cell_type": "markdown",
   "metadata": {},
   "source": [
    "Q35. What is the output of the program?\n",
    "\n",
    "result=lambdax:x*x\n",
    "print(result(5))\n",
    "\n",
    "a) lambdax:x*x\n",
    "b) 10 \n",
    "c) 25 \n",
    "d) 5*5\n",
    "\n",
    "Ans: c"
   ]
  },
  {
   "cell_type": "markdown",
   "metadata": {},
   "source": [
    "Q36. What is the output of the program?\n",
    "def Foo(x):\n",
    "    if (x==1):\n",
    "        return 1\n",
    "    else:\n",
    "        return x+Foo(x-1)\n",
    "print(Foo(4))\n",
    "\n",
    "a) 10 b) 24 c) 7 d) 1\n",
    "\n",
    "Ans: a"
   ]
  },
  {
   "cell_type": "markdown",
   "metadata": {},
   "source": [
    "Q37. Suppose you need to print pi constant defined in the math module. Which of the following code can do this task?\n",
    "\n",
    "a) print(math.pi)\n",
    "b) print(pi)\n",
    "c) from math import pi\n",
    "   print(pi)\n",
    "d) from math import pi\n",
    "   print(math.pi)\n",
    "   \n",
    "Ans: c"
   ]
  },
  {
   "cell_type": "markdown",
   "metadata": {},
   "source": [
    "Q38. Which operator is used in Python to import modules from the packages?\n",
    "\n",
    "a). operator\n",
    "b) * operator \n",
    "c) -> symbol \n",
    "d) , operator\n",
    "\n",
    "Ans: a"
   ]
  },
  {
   "cell_type": "markdown",
   "metadata": {},
   "source": [
    "Q39. What is the output of the code?\n",
    "\n",
    "numbers = [1, 3, 6]\n",
    "newNumbers = tuple(map(lambda x: x , numbers))\n",
    "print(newNumbers)\n",
    "\n",
    "a) [1, 3, 6]\n",
    "b) (1,3,6)\n",
    "c) [2,6,12]\n",
    "d) (2,6,12)\n",
    "\n",
    "Ans: b"
   ]
  },
  {
   "cell_type": "markdown",
   "metadata": {},
   "source": [
    "Q40. What is the output of the code?\n",
    "if None:\n",
    "    print(“Hello”)\n",
    "\n",
    "Ans: d Syntax Error"
   ]
  },
  {
   "cell_type": "markdown",
   "metadata": {},
   "source": [
    "Q41. The if-elif-else executes only one block of code among several blocks.\n",
    "a) True.\n",
    "b) False\n",
    "c) It depends on the expression used.\n",
    "d) There is no elif statement in Python\n",
    "\n",
    "Ans: a"
   ]
  },
  {
   "cell_type": "markdown",
   "metadata": {},
   "source": [
    "Q42. What is the output of the code?\n",
    "\n",
    "for i in[1,0]:\n",
    "    print(i+1)\n",
    "\n",
    "Ans: a"
   ]
  },
  {
   "cell_type": "markdown",
   "metadata": {},
   "source": [
    "Q43. In the Python, for and while loop can have the optional else statement?\n",
    "a) Onlyforloopcanhavetheoptionalelsestatement\n",
    "b) Only while loop can have the optional else statement\n",
    "c) Both loops can have optional else statement\n",
    "d) Loops cannot have else statement in Python\n",
    "\n",
    "Ans: b"
   ]
  },
  {
   "cell_type": "markdown",
   "metadata": {},
   "source": [
    "Q44. What is the output of the code?\n",
    "i=sum=0\n",
    "while i <= 4:\n",
    "    sum+=i\n",
    "    i=i+1\n",
    "print(sum)\n",
    "a) 0\n",
    "b) 10 \n",
    "c) 4\n",
    "d) None of the above\n",
    "\n",
    "Ans: b \n",
    " "
   ]
  },
  {
   "cell_type": "markdown",
   "metadata": {},
   "source": [
    "Q45. What is the output of the code?\n",
    "while 4 == 4:\n",
    "  print('4')\n",
    "a) 4 is printed once\n",
    "b) 4 is printed four times\n",
    "c) 4 is printed infinitely until the program closes\n",
    "d) Syntaxerror\n",
    "\n",
    "Ans: c"
   ]
  },
  {
   "cell_type": "markdown",
   "metadata": {},
   "source": [
    "Q46. Is it better to use the for loop instead of while if we are iterating through a sequence?\n",
    "a) No, it’s better to use the while loop.\n",
    "b) Yes,for loop is more pythonic choice.\n",
    "c) No, we cannot iterate through a sequence using a while loop.\n",
    "d) No, we cannot iterate through a sequence using loops.\n",
    "\n",
    "Ans: b"
   ]
  },
  {
   "cell_type": "markdown",
   "metadata": {},
   "source": [
    "Q47. Which of the following statement is true?\n",
    "\n",
    "Ans: a"
   ]
  },
  {
   "cell_type": "markdown",
   "metadata": {},
   "source": [
    "Q48. What is the output of the code?\n",
    "\n",
    "for char in 'PYTHON STRING':\n",
    "    if char=='':\n",
    "        break\n",
    "    print(char, end='')\n",
    "    if char == 'O':\n",
    "        continue\n",
    "\n",
    "a) PYTHON\n",
    "b) PYTHON STRING \n",
    "c) PYTHN\n",
    "d) STRING\n",
    " \n",
    "Ans: b"
   ]
  },
  {
   "cell_type": "markdown",
   "metadata": {},
   "source": [
    "Q49. Which of the statement is true about the “pass” statement?\n",
    "a) Python interpreter- It ignores the “pass” statement like comments.\n",
    "b) Pass statement: It terminates the loop containing pass statement.\n",
    "c) It is used as the placeholder for future implementation of functions, loops, etc\n",
    "d) Alloftheabove.\n",
    "\n",
    "Ans: a"
   ]
  },
  {
   "cell_type": "markdown",
   "metadata": {},
   "source": [
    "Q50. In regards to separated value file such as .csv and .tsv the delimiter?\n",
    "\n",
    "Ans: c"
   ]
  },
  {
   "cell_type": "markdown",
   "metadata": {},
   "source": [
    "Q51.In separated value files such as .csv and .tsv what does the first row in the file typically contain?\n",
    "\n",
    "a)The column names of the data.\n",
    "b)The author of the table data.\n",
    "c)The source of the data\n",
    "d)Notes about the table data\n",
    "\n",
    "Ans: a"
   ]
  },
  {
   "cell_type": "markdown",
   "metadata": {},
   "source": [
    "Q52. Assume you have a file object , which has properly opened a separated value file that uses the tab character (\\t) as the delimiter.\n",
    "What is the proper way to open the file using the Python CSV module and assign it to the variable   ?\n",
    "my_data\n",
    "csv_reader\n",
    "\n",
    "Ans: c"
   ]
  },
  {
   "cell_type": "markdown",
   "metadata": {},
   "source": [
    "Q53. When iterating over an object returned from , what is returned with each iteration?\n",
    "\n",
    "Ans: b"
   ]
  },
  {
   "cell_type": "markdown",
   "metadata": {},
   "source": [
    "Q54. When writing to a CSV file using the   method of the csv.DictWriter object, what must each key in the\n",
    "input dict represent? Below is an example:\n",
    "\n",
    "Ans: a"
   ]
  },
  {
   "cell_type": "markdown",
   "metadata": {},
   "source": [
    "Q55. Which is the correct way to open the CSV file\n",
    "for reading using the pandas package? Assume that the pandas\n",
    "package has already been imported.\n",
    "\n",
    "Ans: d"
   ]
  },
  {
   "cell_type": "markdown",
   "metadata": {},
   "source": [
    "Q56. By default,   uses 0-based indices for indexing rows. Which is the correct way to import the CSV file hrdata.csv\n",
    "for reading and using the 'Name' column as the index row instead?\n",
    "\n",
    "Ans: d"
   ]
  },
  {
   "cell_type": "markdown",
   "metadata": {},
   "source": [
    "Q57. Given the file\n",
    "dog_breeds.txt\n",
    ", which of the following is the correct\n",
    "way to open the file for reading as a text file? Select all that apply.\n",
    "\n",
    "Ans: b\n"
   ]
  },
  {
   "cell_type": "markdown",
   "metadata": {},
   "source": [
    "Q58. Given the following directory structure:\n",
    "\n",
    "Ans: /cwd/animals/feline "
   ]
  },
  {
   "cell_type": "markdown",
   "metadata": {},
   "source": [
    "Q59.way to open the file for reading as a buffered binary file? Select all that apply.\n",
    "Ans: a"
   ]
  },
  {
   "cell_type": "markdown",
   "metadata": {},
   "source": [
    "Q60.Using the same directory structure as before:\n",
    "\n",
    "Ans: /animals/ursine/bears.gif"
   ]
  },
  {
   "cell_type": "markdown",
   "metadata": {},
   "source": [
    "Q61.\n",
    "a file object is properly closed after usage?\n",
    "\n",
    "Ans: c"
   ]
  },
  {
   "cell_type": "markdown",
   "metadata": {},
   "source": [
    "Q62. Using the same directory structure as before:\n",
    "\n",
    "Ans: ursine/bears.gif"
   ]
  },
  {
   "cell_type": "markdown",
   "metadata": {},
   "source": [
    "63 c <br>\n",
    "64 b <br>\n",
    "65 a <br>\n",
    "66 a <br> \n",
    "67 a <br>\n",
    "68 b <br>\n",
    "69 a <br>\n",
    "70 a <br>\n",
    "71 c <br>\n",
    "72 c <br>\n",
    "73 d <br>\n",
    "74 a <br>\n",
    "75 b <br>\n",
    "76 d <br>\n",
    "77 a <br>\n",
    "78 d <br>\n",
    "79 a <br>\n",
    "80 d <br>\n",
    "81 c <br>\n",
    "82 a <br>\n",
    "83 a <br>\n",
    "84 c <br>\n",
    "85 d <br>\n",
    "86 b <br>\n",
    "87 b <br>\n",
    "88 a <br>\n",
    "89 d <br>\n",
    "90 c <br>\n",
    "91 c <br>\n",
    "92 c <br>\n",
    "93 a <br>\n",
    "94 d <br>\n",
    "95 c <br>\n",
    "96 b <br>\n",
    "97 c <br>\n",
    "98 c <br>\n",
    "99 b <br>\n",
    "100 a <br>\n",
    "101 c <br>\n",
    "102 a <br>\n",
    "103 a <br>\n",
    "104 d <br>\n",
    "105 b <br>\n",
    "106  a <br>\n",
    "107 a <br>\n",
    "108 b <br>\n",
    "109 a <br>\n",
    "110 d <br>\n",
    "111 c <br>\n",
    "112 b <br>\n",
    "113 b <br>\n",
    "114 b  <br>\n",
    "115 c <br>\n",
    "116 b <br>\n",
    "117 b <br>\n",
    "118 c <br>\n",
    "119 a <br>\n",
    "120 a <br>\n",
    "121 c <br>\n",
    "122 d <br>\n",
    "123 a <br>\n",
    "124 a <br>\n",
    "125 c <br>\n",
    "126 a <br>\n",
    "127 b <br>\n",
    "128 c <br>\n",
    "129 a <br>\n",
    "130 a <br>\n",
    "131 a <br>\n",
    "132 a <br>\n",
    "133 a <br>\n",
    "134 a <br>\n",
    "135 c <br>\n",
    "136 b <br>\n",
    "137 b <br>\n",
    "138 a <br>\n",
    "139 b <br>\n",
    "140 a <br>\n",
    "141 b <br>\n",
    "142 d <br>\n",
    "143 d <br>\n",
    "144 a <br>\n",
    "145 a <br>\n",
    "146 a <br>\n",
    "147 b <br>\n",
    "148 a <br>\n",
    "149 b <br>\n",
    "150 a"
   ]
  },
  {
   "cell_type": "markdown",
   "metadata": {},
   "source": []
  },
  {
   "cell_type": "markdown",
   "metadata": {},
   "source": []
  },
  {
   "cell_type": "markdown",
   "metadata": {},
   "source": []
  },
  {
   "cell_type": "markdown",
   "metadata": {},
   "source": []
  },
  {
   "cell_type": "markdown",
   "metadata": {},
   "source": []
  },
  {
   "cell_type": "markdown",
   "metadata": {},
   "source": []
  }
 ],
 "metadata": {
  "kernelspec": {
   "display_name": "Python 3",
   "language": "python",
   "name": "python3"
  },
  "language_info": {
   "codemirror_mode": {
    "name": "ipython",
    "version": 3
   },
   "file_extension": ".py",
   "mimetype": "text/x-python",
   "name": "python",
   "nbconvert_exporter": "python",
   "pygments_lexer": "ipython3",
   "version": "3.7.3"
  }
 },
 "nbformat": 4,
 "nbformat_minor": 2
}
